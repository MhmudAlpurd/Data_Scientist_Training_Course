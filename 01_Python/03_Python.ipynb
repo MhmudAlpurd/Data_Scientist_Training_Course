{
 "cells": [
  {
   "cell_type": "code",
   "execution_count": 1,
   "id": "c716b5e7",
   "metadata": {},
   "outputs": [],
   "source": [
    "a = [20, 50, 10]\n",
    "a.sort()"
   ]
  },
  {
   "cell_type": "code",
   "execution_count": 2,
   "id": "800d1b43",
   "metadata": {},
   "outputs": [
    {
     "data": {
      "text/plain": [
       "[10, 20, 50]"
      ]
     },
     "execution_count": 2,
     "metadata": {},
     "output_type": "execute_result"
    }
   ],
   "source": [
    "a"
   ]
  },
  {
   "cell_type": "code",
   "execution_count": 3,
   "id": "8b090284",
   "metadata": {},
   "outputs": [
    {
     "name": "stdout",
     "output_type": "stream",
     "text": [
      "['Ali', 'ali', 'sara']\n"
     ]
    }
   ],
   "source": [
    "b = ['ali', 'Ali', 'sara']\n",
    "b.sort()\n",
    "print(b)"
   ]
  },
  {
   "cell_type": "code",
   "execution_count": 4,
   "id": "2bc8be08",
   "metadata": {},
   "outputs": [
    {
     "ename": "TypeError",
     "evalue": "'<' not supported between instances of 'int' and 'str'",
     "output_type": "error",
     "traceback": [
      "\u001b[1;31m---------------------------------------------------------------------------\u001b[0m",
      "\u001b[1;31mTypeError\u001b[0m                                 Traceback (most recent call last)",
      "Cell \u001b[1;32mIn[4], line 2\u001b[0m\n\u001b[0;32m      1\u001b[0m ex \u001b[38;5;241m=\u001b[39m [\u001b[38;5;124m'\u001b[39m\u001b[38;5;124makbar\u001b[39m\u001b[38;5;124m'\u001b[39m, \u001b[38;5;241m12\u001b[39m, \u001b[38;5;124m\"\u001b[39m\u001b[38;5;124mzahra\u001b[39m\u001b[38;5;124m\"\u001b[39m]\n\u001b[1;32m----> 2\u001b[0m c \u001b[38;5;241m=\u001b[39m \u001b[38;5;28;43msorted\u001b[39;49m\u001b[43m(\u001b[49m\u001b[43mex\u001b[49m\u001b[43m)\u001b[49m\n\u001b[0;32m      3\u001b[0m \u001b[38;5;28mprint\u001b[39m(c)\n",
      "\u001b[1;31mTypeError\u001b[0m: '<' not supported between instances of 'int' and 'str'"
     ]
    }
   ],
   "source": [
    "ex = ['akbar', 12, \"zahra\"]\n",
    "c = sorted(ex)\n",
    "print(c)"
   ]
  },
  {
   "cell_type": "code",
   "execution_count": 5,
   "id": "12d9105f",
   "metadata": {},
   "outputs": [
    {
     "ename": "TypeError",
     "evalue": "'<' not supported between instances of 'int' and 'str'",
     "output_type": "error",
     "traceback": [
      "\u001b[1;31m---------------------------------------------------------------------------\u001b[0m",
      "\u001b[1;31mTypeError\u001b[0m                                 Traceback (most recent call last)",
      "Cell \u001b[1;32mIn[5], line 2\u001b[0m\n\u001b[0;32m      1\u001b[0m ex \u001b[38;5;241m=\u001b[39m [\u001b[38;5;124m'\u001b[39m\u001b[38;5;124makbar\u001b[39m\u001b[38;5;124m'\u001b[39m, \u001b[38;5;241m12\u001b[39m, \u001b[38;5;124m\"\u001b[39m\u001b[38;5;124mzahra\u001b[39m\u001b[38;5;124m\"\u001b[39m]\n\u001b[1;32m----> 2\u001b[0m c \u001b[38;5;241m=\u001b[39m \u001b[43mex\u001b[49m\u001b[38;5;241;43m.\u001b[39;49m\u001b[43msort\u001b[49m\u001b[43m(\u001b[49m\u001b[43m)\u001b[49m\n\u001b[0;32m      3\u001b[0m \u001b[38;5;28mprint\u001b[39m(c)\n",
      "\u001b[1;31mTypeError\u001b[0m: '<' not supported between instances of 'int' and 'str'"
     ]
    }
   ],
   "source": [
    "ex = ['akbar', 12, \"zahra\"]\n",
    "c = ex.sort()\n",
    "print(c)"
   ]
  },
  {
   "cell_type": "code",
   "execution_count": 7,
   "id": "d0586267",
   "metadata": {},
   "outputs": [
    {
     "name": "stdout",
     "output_type": "stream",
     "text": [
      "['Akbar', 'Babak', 'jack', 12, 15, 19]\n"
     ]
    }
   ],
   "source": [
    "d  = ['Akbar', 'Babak', 'jack']\n",
    "e  = [12, 15, 19]\n",
    "d.extend(e)\n",
    "\n",
    "print(d)\n",
    "\n",
    "\n"
   ]
  },
  {
   "cell_type": "code",
   "execution_count": 8,
   "id": "93c5075d",
   "metadata": {},
   "outputs": [
    {
     "name": "stdout",
     "output_type": "stream",
     "text": [
      "['Akbar', 'Babak', 'jack', [12, 15, 19]]\n"
     ]
    }
   ],
   "source": [
    "d  = ['Akbar', 'Babak', 'jack']\n",
    "e  = [12, 15, 19]\n",
    "d.append(e)\n",
    "print(d)"
   ]
  },
  {
   "cell_type": "code",
   "execution_count": 12,
   "id": "45be0acc",
   "metadata": {},
   "outputs": [],
   "source": [
    "d  = ['Akbar', 'Babak', 'jack']\n",
    "e  = [12, 15, 19]\n",
    "e = str(e)\n",
    "d.extend(e)"
   ]
  },
  {
   "cell_type": "code",
   "execution_count": 13,
   "id": "22a025b5",
   "metadata": {},
   "outputs": [
    {
     "data": {
      "text/plain": [
       "[' ',\n",
       " ' ',\n",
       " ',',\n",
       " ',',\n",
       " '1',\n",
       " '1',\n",
       " '1',\n",
       " '2',\n",
       " '5',\n",
       " '9',\n",
       " 'Akbar',\n",
       " 'Babak',\n",
       " '[',\n",
       " ']',\n",
       " 'jack']"
      ]
     },
     "execution_count": 13,
     "metadata": {},
     "output_type": "execute_result"
    }
   ],
   "source": [
    "d.sort()\n",
    "d"
   ]
  },
  {
   "cell_type": "code",
   "execution_count": 16,
   "id": "469edef9",
   "metadata": {},
   "outputs": [],
   "source": [
    "k = [\"Ali\",\"alireza\",\"Reza\"]\n",
    "k.sort(key=str.lower)\n"
   ]
  },
  {
   "cell_type": "code",
   "execution_count": 17,
   "id": "d777e439",
   "metadata": {},
   "outputs": [
    {
     "name": "stdout",
     "output_type": "stream",
     "text": [
      "['Ali', 'alireza', 'Reza']\n"
     ]
    }
   ],
   "source": [
    "print(k)"
   ]
  },
  {
   "cell_type": "code",
   "execution_count": 20,
   "id": "ec3a82f3",
   "metadata": {},
   "outputs": [],
   "source": [
    "o = [\"Ali\",\"alireza\",\"Reza\"]\n",
    "o.reverse()"
   ]
  },
  {
   "cell_type": "code",
   "execution_count": 21,
   "id": "2d5880d1",
   "metadata": {},
   "outputs": [
    {
     "name": "stdout",
     "output_type": "stream",
     "text": [
      "['Reza', 'alireza', 'Ali']\n"
     ]
    }
   ],
   "source": [
    "print(o)"
   ]
  },
  {
   "cell_type": "code",
   "execution_count": 22,
   "id": "737fbfe1",
   "metadata": {},
   "outputs": [
    {
     "data": {
      "text/plain": [
       "tuple"
      ]
     },
     "execution_count": 22,
     "metadata": {},
     "output_type": "execute_result"
    }
   ],
   "source": [
    "tuple_1 = (1, 2)\n",
    "type(tuple_1)"
   ]
  },
  {
   "cell_type": "code",
   "execution_count": 23,
   "id": "d9217212",
   "metadata": {},
   "outputs": [
    {
     "data": {
      "text/plain": [
       "tuple"
      ]
     },
     "execution_count": 23,
     "metadata": {},
     "output_type": "execute_result"
    }
   ],
   "source": [
    "tuple_2 = (\"k\", \"j\", 45)\n",
    "type(tuple_2)"
   ]
  },
  {
   "cell_type": "code",
   "execution_count": 24,
   "id": "c0555d4b",
   "metadata": {},
   "outputs": [
    {
     "data": {
      "text/plain": [
       "tuple"
      ]
     },
     "execution_count": 24,
     "metadata": {},
     "output_type": "execute_result"
    }
   ],
   "source": [
    "empty = ()\n",
    "type(empty)"
   ]
  },
  {
   "cell_type": "code",
   "execution_count": 25,
   "id": "12626d22",
   "metadata": {},
   "outputs": [
    {
     "data": {
      "text/plain": [
       "tuple"
      ]
     },
     "execution_count": 25,
     "metadata": {},
     "output_type": "execute_result"
    }
   ],
   "source": [
    "tuple_single_member = (14,)\n",
    "type(tuple_single_member)"
   ]
  },
  {
   "cell_type": "code",
   "execution_count": 26,
   "id": "e4da940a",
   "metadata": {},
   "outputs": [
    {
     "data": {
      "text/plain": [
       "tuple"
      ]
     },
     "execution_count": 26,
     "metadata": {},
     "output_type": "execute_result"
    }
   ],
   "source": [
    "tuple_3 = (10, 20, 30)\n",
    "type(tuple_3)"
   ]
  },
  {
   "cell_type": "code",
   "execution_count": 27,
   "id": "91a203d3",
   "metadata": {},
   "outputs": [
    {
     "data": {
      "text/plain": [
       "10"
      ]
     },
     "execution_count": 27,
     "metadata": {},
     "output_type": "execute_result"
    }
   ],
   "source": [
    "tuple_3[0]"
   ]
  },
  {
   "cell_type": "code",
   "execution_count": 28,
   "id": "605bf52b",
   "metadata": {},
   "outputs": [
    {
     "ename": "TypeError",
     "evalue": "'tuple' object does not support item assignment",
     "output_type": "error",
     "traceback": [
      "\u001b[1;31m---------------------------------------------------------------------------\u001b[0m",
      "\u001b[1;31mTypeError\u001b[0m                                 Traceback (most recent call last)",
      "Cell \u001b[1;32mIn[28], line 1\u001b[0m\n\u001b[1;32m----> 1\u001b[0m \u001b[43mtuple_3\u001b[49m\u001b[43m[\u001b[49m\u001b[38;5;241;43m0\u001b[39;49m\u001b[43m]\u001b[49m \u001b[38;5;241m=\u001b[39m \u001b[38;5;241m82\u001b[39m\n",
      "\u001b[1;31mTypeError\u001b[0m: 'tuple' object does not support item assignment"
     ]
    }
   ],
   "source": [
    "tuple_3[0] = 82"
   ]
  },
  {
   "cell_type": "code",
   "execution_count": 29,
   "id": "222d7b1c",
   "metadata": {},
   "outputs": [
    {
     "ename": "AttributeError",
     "evalue": "'tuple' object has no attribute 'append'",
     "output_type": "error",
     "traceback": [
      "\u001b[1;31m---------------------------------------------------------------------------\u001b[0m",
      "\u001b[1;31mAttributeError\u001b[0m                            Traceback (most recent call last)",
      "Cell \u001b[1;32mIn[29], line 2\u001b[0m\n\u001b[0;32m      1\u001b[0m tuple_4 \u001b[38;5;241m=\u001b[39m (\u001b[38;5;241m10\u001b[39m, \u001b[38;5;241m20\u001b[39m, \u001b[38;5;241m46\u001b[39m)\n\u001b[1;32m----> 2\u001b[0m \u001b[43mtuple_4\u001b[49m\u001b[38;5;241;43m.\u001b[39;49m\u001b[43mappend\u001b[49m(\u001b[38;5;241m47\u001b[39m)\n",
      "\u001b[1;31mAttributeError\u001b[0m: 'tuple' object has no attribute 'append'"
     ]
    }
   ],
   "source": [
    "tuple_4 = (10, 20, 46)\n",
    "tuple_4.append(47)\n"
   ]
  },
  {
   "cell_type": "code",
   "execution_count": 30,
   "id": "a2a34077",
   "metadata": {},
   "outputs": [
    {
     "data": {
      "text/plain": [
       "[1, 3]"
      ]
     },
     "execution_count": 30,
     "metadata": {},
     "output_type": "execute_result"
    }
   ],
   "source": [
    "tuple_5 = ([1, 3], 41)\n",
    "tuple_5[0]"
   ]
  },
  {
   "cell_type": "code",
   "execution_count": 31,
   "id": "a2c36d4f",
   "metadata": {},
   "outputs": [],
   "source": [
    "tuple_5[0].append(5)\n"
   ]
  },
  {
   "cell_type": "code",
   "execution_count": 32,
   "id": "01b54e68",
   "metadata": {},
   "outputs": [
    {
     "data": {
      "text/plain": [
       "([1, 3, 5], 41)"
      ]
     },
     "execution_count": 32,
     "metadata": {},
     "output_type": "execute_result"
    }
   ],
   "source": [
    "tuple_5"
   ]
  },
  {
   "cell_type": "code",
   "execution_count": 33,
   "id": "02cfa913",
   "metadata": {},
   "outputs": [
    {
     "data": {
      "text/plain": [
       "100"
      ]
     },
     "execution_count": 33,
     "metadata": {},
     "output_type": "execute_result"
    }
   ],
   "source": [
    "tuple_6 = (10, 20, 80, 100, 5)\n",
    "max(tuple_6)"
   ]
  },
  {
   "cell_type": "code",
   "execution_count": 34,
   "id": "791a8d5e",
   "metadata": {},
   "outputs": [
    {
     "data": {
      "text/plain": [
       "5"
      ]
     },
     "execution_count": 34,
     "metadata": {},
     "output_type": "execute_result"
    }
   ],
   "source": [
    "min(tuple_6)"
   ]
  },
  {
   "cell_type": "code",
   "execution_count": 35,
   "id": "72b59f03",
   "metadata": {},
   "outputs": [
    {
     "data": {
      "text/plain": [
       "5"
      ]
     },
     "execution_count": 35,
     "metadata": {},
     "output_type": "execute_result"
    }
   ],
   "source": [
    "len(tuple_6)"
   ]
  },
  {
   "cell_type": "code",
   "execution_count": 36,
   "id": "36fd97bb",
   "metadata": {},
   "outputs": [
    {
     "data": {
      "text/plain": [
       "215"
      ]
     },
     "execution_count": 36,
     "metadata": {},
     "output_type": "execute_result"
    }
   ],
   "source": [
    "sum(tuple_6)"
   ]
  },
  {
   "cell_type": "code",
   "execution_count": 37,
   "id": "b046f659",
   "metadata": {},
   "outputs": [
    {
     "ename": "TypeError",
     "evalue": "unsupported operand type(s) for +: 'int' and 'str'",
     "output_type": "error",
     "traceback": [
      "\u001b[1;31m---------------------------------------------------------------------------\u001b[0m",
      "\u001b[1;31mTypeError\u001b[0m                                 Traceback (most recent call last)",
      "Cell \u001b[1;32mIn[37], line 2\u001b[0m\n\u001b[0;32m      1\u001b[0m tuple_7 \u001b[38;5;241m=\u001b[39m (\u001b[38;5;124m'\u001b[39m\u001b[38;5;124mgholi\u001b[39m\u001b[38;5;124m'\u001b[39m, \u001b[38;5;241m8\u001b[39m, \u001b[38;5;241m12\u001b[39m)\n\u001b[1;32m----> 2\u001b[0m \u001b[38;5;28;43msum\u001b[39;49m\u001b[43m(\u001b[49m\u001b[43mtuple_7\u001b[49m\u001b[43m)\u001b[49m\n",
      "\u001b[1;31mTypeError\u001b[0m: unsupported operand type(s) for +: 'int' and 'str'"
     ]
    }
   ],
   "source": [
    "tuple_7 = ('gholi', 8, 12)\n",
    "sum(tuple_7)"
   ]
  },
  {
   "cell_type": "code",
   "execution_count": 38,
   "id": "5ee55ddc",
   "metadata": {},
   "outputs": [
    {
     "data": {
      "text/plain": [
       "(20, 30, 40)"
      ]
     },
     "execution_count": 38,
     "metadata": {},
     "output_type": "execute_result"
    }
   ],
   "source": [
    "tuple_8 = (10, 20, 30, 40, 50)\n",
    "tuple_8[1:-1]"
   ]
  },
  {
   "cell_type": "code",
   "execution_count": 39,
   "id": "0a88c190",
   "metadata": {},
   "outputs": [
    {
     "data": {
      "text/plain": [
       "(50, 40, 30, 20, 10)"
      ]
     },
     "execution_count": 39,
     "metadata": {},
     "output_type": "execute_result"
    }
   ],
   "source": [
    "tuple_8[::-1]"
   ]
  },
  {
   "cell_type": "code",
   "execution_count": 40,
   "id": "e19d9f30",
   "metadata": {},
   "outputs": [
    {
     "data": {
      "text/plain": [
       "(10, 12, 45, 46)"
      ]
     },
     "execution_count": 40,
     "metadata": {},
     "output_type": "execute_result"
    }
   ],
   "source": [
    "tuple_9 = (10, 12)\n",
    "tuple_10 = (45, 46)\n",
    "tuple_11 = tuple_9 + tuple_10\n",
    "tuple_11"
   ]
  },
  {
   "cell_type": "code",
   "execution_count": 41,
   "id": "ad7246c6",
   "metadata": {},
   "outputs": [
    {
     "data": {
      "text/plain": [
       "True"
      ]
     },
     "execution_count": 41,
     "metadata": {},
     "output_type": "execute_result"
    }
   ],
   "source": [
    "10 in tuple_11"
   ]
  },
  {
   "cell_type": "code",
   "execution_count": 45,
   "id": "aee49c86",
   "metadata": {},
   "outputs": [
    {
     "data": {
      "text/plain": [
       "(74, 32, 74, 32)"
      ]
     },
     "execution_count": 45,
     "metadata": {},
     "output_type": "execute_result"
    }
   ],
   "source": [
    "t =2\n",
    "tuple_13 = (74, 32)\n",
    "tuple_12 = tuple_13 * t\n",
    "tuple_12"
   ]
  },
  {
   "cell_type": "code",
   "execution_count": 47,
   "id": "609a9a2b",
   "metadata": {},
   "outputs": [
    {
     "name": "stdout",
     "output_type": "stream",
     "text": [
      "148\n",
      "64\n"
     ]
    }
   ],
   "source": [
    "for i in tuple_13:\n",
    "    print(i*2)"
   ]
  },
  {
   "cell_type": "code",
   "execution_count": 48,
   "id": "0703ae08",
   "metadata": {},
   "outputs": [
    {
     "data": {
      "text/plain": [
       "2"
      ]
     },
     "execution_count": 48,
     "metadata": {},
     "output_type": "execute_result"
    }
   ],
   "source": [
    "tuple_14 = (15, 16, 15)\n",
    "tuple_14.count(15)"
   ]
  },
  {
   "cell_type": "code",
   "execution_count": 49,
   "id": "f7e1f7c1",
   "metadata": {},
   "outputs": [
    {
     "data": {
      "text/plain": [
       "1"
      ]
     },
     "execution_count": 49,
     "metadata": {},
     "output_type": "execute_result"
    }
   ],
   "source": [
    "tuple_14.index(16)"
   ]
  },
  {
   "cell_type": "code",
   "execution_count": 50,
   "id": "591ed6ae",
   "metadata": {},
   "outputs": [
    {
     "data": {
      "text/plain": [
       "dict"
      ]
     },
     "execution_count": 50,
     "metadata": {},
     "output_type": "execute_result"
    }
   ],
   "source": [
    "dict_1 = {}\n",
    "type(dict_1)"
   ]
  },
  {
   "cell_type": "code",
   "execution_count": 51,
   "id": "9b9de5dd",
   "metadata": {},
   "outputs": [
    {
     "data": {
      "text/plain": [
       "{'name': 'Ahmad', 'age': 38, 'city': 'Shiraz'}"
      ]
     },
     "execution_count": 51,
     "metadata": {},
     "output_type": "execute_result"
    }
   ],
   "source": [
    "dict_2 = {\"name\": \"Ahmad\", \"age\": 38, \"city\": \"Shiraz\"}\n",
    "dict_2"
   ]
  },
  {
   "cell_type": "code",
   "execution_count": 52,
   "id": "e471770b",
   "metadata": {},
   "outputs": [
    {
     "data": {
      "text/plain": [
       "{'x': 10, 'y': 20}"
      ]
     },
     "execution_count": 52,
     "metadata": {},
     "output_type": "execute_result"
    }
   ],
   "source": [
    "lst = [(\"x\", 10), (\"y\", 20)]\n",
    "dict_3 = dict(lst)\n",
    "dict_3"
   ]
  },
  {
   "cell_type": "code",
   "execution_count": 53,
   "id": "79fff633",
   "metadata": {},
   "outputs": [
    {
     "data": {
      "text/plain": [
       "{'t': 2.3, 'k': 9}"
      ]
     },
     "execution_count": 53,
     "metadata": {},
     "output_type": "execute_result"
    }
   ],
   "source": [
    "dict_4 = dict(t=2.3, k=9)\n",
    "dict_4"
   ]
  },
  {
   "cell_type": "code",
   "execution_count": 54,
   "id": "22bd3b8c",
   "metadata": {},
   "outputs": [
    {
     "data": {
      "text/plain": [
       "'Sara'"
      ]
     },
     "execution_count": 54,
     "metadata": {},
     "output_type": "execute_result"
    }
   ],
   "source": [
    "dict_5 = {\"name\": \"Sara\",\"age\": 22}\n",
    "dict_5[\"name\"]"
   ]
  },
  {
   "cell_type": "code",
   "execution_count": 55,
   "id": "575a9148",
   "metadata": {},
   "outputs": [
    {
     "ename": "KeyError",
     "evalue": "'lastname'",
     "output_type": "error",
     "traceback": [
      "\u001b[1;31m---------------------------------------------------------------------------\u001b[0m",
      "\u001b[1;31mKeyError\u001b[0m                                  Traceback (most recent call last)",
      "Cell \u001b[1;32mIn[55], line 1\u001b[0m\n\u001b[1;32m----> 1\u001b[0m \u001b[43mdict_5\u001b[49m\u001b[43m[\u001b[49m\u001b[38;5;124;43m\"\u001b[39;49m\u001b[38;5;124;43mlastname\u001b[39;49m\u001b[38;5;124;43m\"\u001b[39;49m\u001b[43m]\u001b[49m\n",
      "\u001b[1;31mKeyError\u001b[0m: 'lastname'"
     ]
    }
   ],
   "source": [
    "dict_5[\"lastname\"]"
   ]
  },
  {
   "cell_type": "code",
   "execution_count": 56,
   "id": "3206db96",
   "metadata": {},
   "outputs": [],
   "source": [
    "dict_5.get(\"lastname\")"
   ]
  },
  {
   "cell_type": "code",
   "execution_count": 57,
   "id": "3c69de1a",
   "metadata": {},
   "outputs": [
    {
     "data": {
      "text/plain": [
       "'Sara'"
      ]
     },
     "execution_count": 57,
     "metadata": {},
     "output_type": "execute_result"
    }
   ],
   "source": [
    "dict_5.get(\"name\")"
   ]
  },
  {
   "cell_type": "code",
   "execution_count": 58,
   "id": "aa9467a7",
   "metadata": {},
   "outputs": [
    {
     "data": {
      "text/plain": [
       "{'name': 'Sara', 'age': 23}"
      ]
     },
     "execution_count": 58,
     "metadata": {},
     "output_type": "execute_result"
    }
   ],
   "source": [
    "dict_6 = {\"name\": \"Sara\",\"age\": 22}\n",
    "dict_6[\"age\"]=23\n",
    "dict_6"
   ]
  },
  {
   "cell_type": "code",
   "execution_count": 59,
   "id": "ba7f03ea",
   "metadata": {},
   "outputs": [
    {
     "data": {
      "text/plain": [
       "{'name': 'Sara', 'age': 22, 'City': 'Tehran'}"
      ]
     },
     "execution_count": 59,
     "metadata": {},
     "output_type": "execute_result"
    }
   ],
   "source": [
    "dict_7 = {\"name\": \"Sara\",\"age\": 22}\n",
    "dict_7[\"City\"]=\"Tehran\"\n",
    "dict_7"
   ]
  },
  {
   "cell_type": "code",
   "execution_count": 60,
   "id": "bc822d3d",
   "metadata": {},
   "outputs": [
    {
     "ename": "TypeError",
     "evalue": "unsupported operand type(s) for +: 'dict' and 'dict'",
     "output_type": "error",
     "traceback": [
      "\u001b[1;31m---------------------------------------------------------------------------\u001b[0m",
      "\u001b[1;31mTypeError\u001b[0m                                 Traceback (most recent call last)",
      "Cell \u001b[1;32mIn[60], line 3\u001b[0m\n\u001b[0;32m      1\u001b[0m dict_8 \u001b[38;5;241m=\u001b[39m  {\u001b[38;5;124m\"\u001b[39m\u001b[38;5;124mname\u001b[39m\u001b[38;5;124m\"\u001b[39m: \u001b[38;5;124m\"\u001b[39m\u001b[38;5;124mSara\u001b[39m\u001b[38;5;124m\"\u001b[39m,\u001b[38;5;124m\"\u001b[39m\u001b[38;5;124mage\u001b[39m\u001b[38;5;124m\"\u001b[39m: \u001b[38;5;241m22\u001b[39m}\n\u001b[0;32m      2\u001b[0m dict_9 \u001b[38;5;241m=\u001b[39m {\u001b[38;5;124m\"\u001b[39m\u001b[38;5;124mCountry\u001b[39m\u001b[38;5;124m\"\u001b[39m: \u001b[38;5;124m\"\u001b[39m\u001b[38;5;124mIran\u001b[39m\u001b[38;5;124m\"\u001b[39m, \u001b[38;5;124m\"\u001b[39m\u001b[38;5;124mCity\u001b[39m\u001b[38;5;124m\"\u001b[39m:\u001b[38;5;124m\"\u001b[39m\u001b[38;5;124mTabriz\u001b[39m\u001b[38;5;124m\"\u001b[39m}\n\u001b[1;32m----> 3\u001b[0m dict_10 \u001b[38;5;241m=\u001b[39m \u001b[43mdict_8\u001b[49m\u001b[43m \u001b[49m\u001b[38;5;241;43m+\u001b[39;49m\u001b[43m \u001b[49m\u001b[43mdict_9\u001b[49m\n\u001b[0;32m      4\u001b[0m dict_10\n",
      "\u001b[1;31mTypeError\u001b[0m: unsupported operand type(s) for +: 'dict' and 'dict'"
     ]
    }
   ],
   "source": [
    "dict_8 =  {\"name\": \"Sara\",\"age\": 22}\n",
    "dict_9 = {\"Country\": \"Iran\", \"City\":\"Tabriz\"}\n",
    "dict_10 = dict_8 + dict_9\n",
    "dict_10"
   ]
  },
  {
   "cell_type": "code",
   "execution_count": 61,
   "id": "6b64744a",
   "metadata": {},
   "outputs": [
    {
     "data": {
      "text/plain": [
       "{'name': 'Sara', 'age': 22, 'Country': 'Iran', 'City': 'Tabriz'}"
      ]
     },
     "execution_count": 61,
     "metadata": {},
     "output_type": "execute_result"
    }
   ],
   "source": [
    "dict_8 =  {\"name\": \"Sara\",\"age\": 22}\n",
    "dict_9 = {\"Country\": \"Iran\", \"City\":\"Tabriz\"}\n",
    "dict_8.update(dict_9)\n",
    "dict_8"
   ]
  },
  {
   "cell_type": "code",
   "execution_count": 62,
   "id": "6f6f0460",
   "metadata": {},
   "outputs": [
    {
     "data": {
      "text/plain": [
       "{'name': 'Sara', 'age': 25, 'country': 'France'}"
      ]
     },
     "execution_count": 62,
     "metadata": {},
     "output_type": "execute_result"
    }
   ],
   "source": [
    "dict_10 = {\"name\": \"Sara\",\"age\": 23}\n",
    "dict_11 = {\"age\": 25, \"country\": \"France\"}\n",
    "\n",
    "dict_10.update(dict_11)\n",
    "dict_10"
   ]
  },
  {
   "cell_type": "code",
   "execution_count": 64,
   "id": "d28878f2",
   "metadata": {},
   "outputs": [
    {
     "data": {
      "text/plain": [
       "{'b': 2, 'c': 3}"
      ]
     },
     "execution_count": 64,
     "metadata": {},
     "output_type": "execute_result"
    }
   ],
   "source": [
    "dict_12 = {\"a\":1,\"b\":2,\"c\":3}\n",
    "dict_12.pop(\"a\")\n",
    "dict_12"
   ]
  },
  {
   "cell_type": "code",
   "execution_count": 69,
   "id": "1439bcb6",
   "metadata": {},
   "outputs": [
    {
     "data": {
      "text/plain": [
       "{'a': 1, 'b': 2, 'c': 3}"
      ]
     },
     "execution_count": 69,
     "metadata": {},
     "output_type": "execute_result"
    }
   ],
   "source": [
    "dict_13 = {\"a\":1,\"b\":2,\"c\":3}\n",
    "dd = dict_13.pop(\"p\",0)\n",
    "dict_13"
   ]
  },
  {
   "cell_type": "code",
   "execution_count": 70,
   "id": "de763363",
   "metadata": {},
   "outputs": [
    {
     "name": "stdout",
     "output_type": "stream",
     "text": [
      "0\n"
     ]
    }
   ],
   "source": [
    "print(dd)"
   ]
  },
  {
   "cell_type": "code",
   "execution_count": 71,
   "id": "30e53993",
   "metadata": {},
   "outputs": [
    {
     "data": {
      "text/plain": [
       "{}"
      ]
     },
     "execution_count": 71,
     "metadata": {},
     "output_type": "execute_result"
    }
   ],
   "source": [
    "dict_14 = {\"a\":1,\"b\":2,\"c\":3}\n",
    "dict_14.clear()\n",
    "dict_14"
   ]
  },
  {
   "cell_type": "code",
   "execution_count": 73,
   "id": "728686b5",
   "metadata": {},
   "outputs": [
    {
     "data": {
      "text/plain": [
       "dict_keys(['a', 'b', 'c'])"
      ]
     },
     "execution_count": 73,
     "metadata": {},
     "output_type": "execute_result"
    }
   ],
   "source": [
    "dict_15 = {\"a\":1,\"b\":2,\"c\":3}\n",
    "dict_15.keys()"
   ]
  },
  {
   "cell_type": "code",
   "execution_count": 74,
   "id": "96029836",
   "metadata": {},
   "outputs": [
    {
     "data": {
      "text/plain": [
       "dict_values([1, 2, 3])"
      ]
     },
     "execution_count": 74,
     "metadata": {},
     "output_type": "execute_result"
    }
   ],
   "source": [
    "dict_15.values()"
   ]
  },
  {
   "cell_type": "code",
   "execution_count": 75,
   "id": "342d75dc",
   "metadata": {},
   "outputs": [
    {
     "data": {
      "text/plain": [
       "18"
      ]
     },
     "execution_count": 75,
     "metadata": {},
     "output_type": "execute_result"
    }
   ],
   "source": [
    "scores = {\"Ali\": 15,\"Sara\": 18,\"Reza\": 14}\n",
    "more = {\"Ali\": 19,\"Nima\": 12}\n",
    "names = [\"Ali\",\"Mina\",\"Sara\",\"Akbar\",\"Mina\"]\n",
    "\n",
    "#1 \n",
    "scores.get(\"Sara\")\n"
   ]
  },
  {
   "cell_type": "code",
   "execution_count": 76,
   "id": "0f495b23",
   "metadata": {},
   "outputs": [
    {
     "data": {
      "text/plain": [
       "{'Ali': 15, 'Sara': 18, 'Reza': 14, 'Mina': 17}"
      ]
     },
     "execution_count": 76,
     "metadata": {},
     "output_type": "execute_result"
    }
   ],
   "source": [
    "#2\n",
    "scores.update({\"Mina\": 17})\n",
    "scores"
   ]
  },
  {
   "cell_type": "code",
   "execution_count": 77,
   "id": "5b5fc811",
   "metadata": {},
   "outputs": [
    {
     "data": {
      "text/plain": [
       "{'Ali': 16, 'Sara': 18, 'Reza': 14, 'Mina': 17}"
      ]
     },
     "execution_count": 77,
     "metadata": {},
     "output_type": "execute_result"
    }
   ],
   "source": [
    "#3\n",
    "scores.update({\"Ali\":16})\n",
    "scores"
   ]
  },
  {
   "cell_type": "code",
   "execution_count": 78,
   "id": "5c3ee8f4",
   "metadata": {},
   "outputs": [
    {
     "data": {
      "text/plain": [
       "{'Ali': 19, 'Sara': 18, 'Reza': 14, 'Mina': 17, 'Nima': 12}"
      ]
     },
     "execution_count": 78,
     "metadata": {},
     "output_type": "execute_result"
    }
   ],
   "source": [
    "#4\n",
    "scores.update(more)\n",
    "scores"
   ]
  },
  {
   "cell_type": "code",
   "execution_count": 82,
   "id": "64fb9dbe",
   "metadata": {},
   "outputs": [
    {
     "name": "stdout",
     "output_type": "stream",
     "text": [
      "Ali\n",
      "Sara\n",
      "Reza\n",
      "Mina\n",
      "Nima\n"
     ]
    }
   ],
   "source": [
    "for i in scores:\n",
    "    print(i)"
   ]
  },
  {
   "cell_type": "code",
   "execution_count": 83,
   "id": "4742f2c9",
   "metadata": {},
   "outputs": [
    {
     "name": "stdout",
     "output_type": "stream",
     "text": [
      "19\n",
      "18\n",
      "14\n",
      "17\n",
      "12\n"
     ]
    }
   ],
   "source": [
    "for i in scores.values():\n",
    "    print(i)"
   ]
  },
  {
   "cell_type": "code",
   "execution_count": 84,
   "id": "25ee35ba",
   "metadata": {},
   "outputs": [
    {
     "name": "stdout",
     "output_type": "stream",
     "text": [
      "('Ali', 19)\n",
      "('Sara', 18)\n",
      "('Reza', 14)\n",
      "('Mina', 17)\n",
      "('Nima', 12)\n"
     ]
    }
   ],
   "source": [
    "for k in scores.items():\n",
    "    print(k)"
   ]
  },
  {
   "cell_type": "code",
   "execution_count": null,
   "id": "e63aadc6",
   "metadata": {},
   "outputs": [],
   "source": [
    "#the end "
   ]
  }
 ],
 "metadata": {
  "kernelspec": {
   "display_name": "Python 3",
   "language": "python",
   "name": "python3"
  },
  "language_info": {
   "codemirror_mode": {
    "name": "ipython",
    "version": 3
   },
   "file_extension": ".py",
   "mimetype": "text/x-python",
   "name": "python",
   "nbconvert_exporter": "python",
   "pygments_lexer": "ipython3",
   "version": "3.13.7"
  }
 },
 "nbformat": 4,
 "nbformat_minor": 5
}
